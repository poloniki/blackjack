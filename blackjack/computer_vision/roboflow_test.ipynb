{
 "cells": [
  {
   "cell_type": "code",
   "execution_count": 10,
   "metadata": {},
   "outputs": [
    {
     "name": "stdout",
     "output_type": "stream",
     "text": [
      "loading Roboflow workspace...\n",
      "loading Roboflow project...\n"
     ]
    }
   ],
   "source": [
    "from roboflow import Roboflow\n",
    "rf = Roboflow(api_key=\"To0GD6mLy5HALnZ4HQcj\")\n",
    "project = rf.workspace().project(\"playing-cards-ow27d\")\n",
    "model = project.version(1).model"
   ]
  },
  {
   "cell_type": "code",
   "execution_count": 4,
   "metadata": {},
   "outputs": [
    {
     "data": {
      "text/plain": [
       "<roboflow.models.object_detection.ObjectDetectionModel at 0x126b73190>"
      ]
     },
     "execution_count": 4,
     "metadata": {},
     "output_type": "execute_result"
    }
   ],
   "source": [
    "model"
   ]
  },
  {
   "cell_type": "code",
   "execution_count": 5,
   "metadata": {},
   "outputs": [
    {
     "data": {
      "text/plain": [
       "<roboflow.core.project.Project at 0x123136a70>"
      ]
     },
     "execution_count": 5,
     "metadata": {},
     "output_type": "execute_result"
    }
   ],
   "source": [
    "project"
   ]
  },
  {
   "cell_type": "code",
   "execution_count": null,
   "metadata": {},
   "outputs": [],
   "source": [
    "Screenshot 2023-08-28 at 16.35.58"
   ]
  },
  {
   "cell_type": "code",
   "execution_count": 16,
   "metadata": {},
   "outputs": [
    {
     "name": "stdout",
     "output_type": "stream",
     "text": [
      "{'predictions': [{'x': 1127, 'y': 1076, 'width': 54, 'height': 70, 'confidence': 0.9111129641532898, 'class': '10D', 'image_path': 'Screenshot 2023-08-28 at 16.35.58.png', 'prediction_type': 'ObjectDetectionModel'}, {'x': 1303, 'y': 938, 'width': 50, 'height': 68, 'confidence': 0.8836567401885986, 'class': '8S', 'image_path': 'Screenshot 2023-08-28 at 16.35.58.png', 'prediction_type': 'ObjectDetectionModel'}, {'x': 1033, 'y': 769, 'width': 46, 'height': 61, 'confidence': 0.8661511540412903, 'class': '8S', 'image_path': 'Screenshot 2023-08-28 at 16.35.58.png', 'prediction_type': 'ObjectDetectionModel'}, {'x': 740, 'y': 197, 'width': 42, 'height': 53, 'confidence': 0.8528584241867065, 'class': '10C', 'image_path': 'Screenshot 2023-08-28 at 16.35.58.png', 'prediction_type': 'ObjectDetectionModel'}, {'x': 956, 'y': 390, 'width': 46, 'height': 59, 'confidence': 0.8509551882743835, 'class': '10C', 'image_path': 'Screenshot 2023-08-28 at 16.35.58.png', 'prediction_type': 'ObjectDetectionModel'}, {'x': 847, 'y': 838, 'width': 46, 'height': 64, 'confidence': 0.824008047580719, 'class': '10D', 'image_path': 'Screenshot 2023-08-28 at 16.35.58.png', 'prediction_type': 'ObjectDetectionModel'}], 'image': {'width': '2332', 'height': '1280'}}\n"
     ]
    }
   ],
   "source": [
    "model.predict(\"Screenshot 2023-08-28 at 16.35.58.png\", confidence=40, overlap=30).json()"
   ]
  }
 ],
 "metadata": {
  "kernelspec": {
   "display_name": "blackjack",
   "language": "python",
   "name": "python3"
  },
  "language_info": {
   "codemirror_mode": {
    "name": "ipython",
    "version": 3
   },
   "file_extension": ".py",
   "mimetype": "text/x-python",
   "name": "python",
   "nbconvert_exporter": "python",
   "pygments_lexer": "ipython3",
   "version": "3.10.6"
  },
  "orig_nbformat": 4
 },
 "nbformat": 4,
 "nbformat_minor": 2
}
